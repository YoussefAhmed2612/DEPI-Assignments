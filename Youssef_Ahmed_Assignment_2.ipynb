{
 "cells": [
  {
   "cell_type": "markdown",
   "metadata": {},
   "source": [
    "## Python Task"
   ]
  },
  {
   "cell_type": "markdown",
   "metadata": {},
   "source": [
    "### 1. Question: Merge and Sort Two Lists\n",
    "\n",
    "**Description:** Given two lists of integers, merge them into one list and sort the result in ascending order. Do not use Python's built-in sort() function or other sorting functions.\n",
    "\n",
    "\n"
   ]
  },
  {
   "cell_type": "code",
   "execution_count": 7,
   "metadata": {},
   "outputs": [
    {
     "data": {
      "text/plain": [
       "'\\n# Example Input:\\nlist1 = [3, 1, 4]\\nlist2 = [2, 5, 0]\\n\\n# Example Output:\\n[0, 1, 2, 3, 4, 5]'"
      ]
     },
     "execution_count": 7,
     "metadata": {},
     "output_type": "execute_result"
    }
   ],
   "source": [
    "'''\n",
    "# Example Input:\n",
    "list1 = [3, 1, 4]\n",
    "list2 = [2, 5, 0]\n",
    "\n",
    "# Example Output:\n",
    "[0, 1, 2, 3, 4, 5]'''"
   ]
  },
  {
   "cell_type": "code",
   "execution_count": 1,
   "metadata": {},
   "outputs": [
    {
     "name": "stdout",
     "output_type": "stream",
     "text": [
      "[0, 1, 2, 3, 4, 5]\n"
     ]
    }
   ],
   "source": [
    "list1=list(map(int,input().split()))\n",
    "list2=list(map(int,input().split()))\n",
    "merged_list = list1 + list2\n",
    "for i in range(len(merged_list)):\n",
    "    for j in range(0, len(merged_list) - i - 1):\n",
    "        if merged_list[j] > merged_list[j + 1]:\n",
    "            merged_list[j], merged_list[j + 1] = merged_list[j + 1], merged_list[j]\n",
    "print(merged_list)"
   ]
  },
  {
   "cell_type": "markdown",
   "metadata": {},
   "source": [
    "### 2. Question: Repeat Characters in a String\n",
    "\n",
    "**Description:** Given a string, create a new string by repeating each character in the original string n times. \n",
    "\n",
    "Assume n is given and always a positive integer. \n",
    "\n",
    "Do not use if statements in your solution.\n"
   ]
  },
  {
   "cell_type": "code",
   "execution_count": 9,
   "metadata": {},
   "outputs": [
    {
     "data": {
      "text/plain": [
       "'\\n# Example Input:\\ns = \"abc\"\\nn = 3\\n\\n# Example Output:\\n\"aaabbbccc\"\\n\\n'"
      ]
     },
     "execution_count": 9,
     "metadata": {},
     "output_type": "execute_result"
    }
   ],
   "source": [
    "'''\n",
    "# Example Input:\n",
    "s = \"abc\"\n",
    "n = 3\n",
    "\n",
    "# Example Output:\n",
    "\"aaabbbccc\"\n",
    "\n",
    "'''"
   ]
  },
  {
   "cell_type": "code",
   "execution_count": null,
   "metadata": {},
   "outputs": [
    {
     "name": "stdout",
     "output_type": "stream",
     "text": [
      "aaabbbccc\n"
     ]
    }
   ],
   "source": [
    "s = input()\n",
    "n = int(input())\n",
    "result = ''\n",
    "for i in s:\n",
    "    result += i * n\n",
    "print(result)\n"
   ]
  }
 ],
 "metadata": {
  "kernelspec": {
   "display_name": "Python 3",
   "language": "python",
   "name": "python3"
  },
  "language_info": {
   "codemirror_mode": {
    "name": "ipython",
    "version": 3
   },
   "file_extension": ".py",
   "mimetype": "text/x-python",
   "name": "python",
   "nbconvert_exporter": "python",
   "pygments_lexer": "ipython3",
   "version": "3.13.0"
  }
 },
 "nbformat": 4,
 "nbformat_minor": 2
}
